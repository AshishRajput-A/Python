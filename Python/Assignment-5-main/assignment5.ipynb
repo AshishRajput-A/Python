{
 "cells": [
  {
   "cell_type": "code",
   "execution_count": 18,
   "id": "43e7d9f8-cd97-454b-9547-3d14dd3b092d",
   "metadata": {},
   "outputs": [
    {
     "name": "stdout",
     "output_type": "stream",
     "text": [
      "Original list of tuples.: [('Sachin Tendulkar', 34357), ('Ricky Ponting', 27483), ('Jack Kallis', 25534), (' Virat Kohli', 24936)]\n",
      "After sorting list of tuples.: [(' Virat Kohli', 24936), ('Jack Kallis', 25534), ('Ricky Ponting', 27483), ('Sachin Tendulkar', 34357)]\n"
     ]
    }
   ],
   "source": [
    "# python program to sort score of player accoding their runs \n",
    "score = [('Sachin Tendulkar' , 34357) , ('Ricky Ponting',27483), ('Jack Kallis',25534),(' Virat Kohli',24936)]\n",
    "print(\"Original list of tuples.:\",score)\n",
    "score.sort(key = lambda x : x[1])\n",
    "print(\"After sorting list of tuples.:\",score)\n",
    "    "
   ]
  },
  {
   "cell_type": "code",
   "execution_count": 7,
   "id": "07383155-6dd5-43e7-8567-be4d2a61032d",
   "metadata": {},
   "outputs": [],
   "source": [
    "# 2 pograme to fint square of list\n",
    "l1 = [1,2,3,4,5,6,7,8,9,10]\n"
   ]
  },
  {
   "cell_type": "code",
   "execution_count": 2,
   "id": "9c1a807d-4975-48c3-a397-a9f0b960b561",
   "metadata": {},
   "outputs": [
    {
     "data": {
      "text/plain": [
       "[1, 4, 9, 16, 25, 36, 49, 64, 81, 100]"
      ]
     },
     "execution_count": 2,
     "metadata": {},
     "output_type": "execute_result"
    }
   ],
   "source": [
    "sq = list(map(lambda n : n**2,l1))\n",
    "sq"
   ]
  },
  {
   "cell_type": "code",
   "execution_count": 3,
   "id": "9a213736-fbf4-46c2-aa15-aa203b70071e",
   "metadata": {},
   "outputs": [
    {
     "name": "stdout",
     "output_type": "stream",
     "text": [
      "('1', '2', '3', '4', '5', '6', '7', '8', '9', '10')\n"
     ]
    }
   ],
   "source": [
    "# 3 program to covert list to tuples\n",
    "l = (1,2,3,4,5,6,7,8,9,10)\n",
    "\n",
    "r = tuple(map(str,l))\n",
    "print(r)\n"
   ]
  },
  {
   "cell_type": "code",
   "execution_count": 4,
   "id": "36305f59-55e8-44d5-aada-539d7fefce7f",
   "metadata": {},
   "outputs": [
    {
     "name": "stdout",
     "output_type": "stream",
     "text": [
      "[1, 2, 3, 4, 5, 6, 7, 8, 9, 10, 11, 12, 13, 14, 15, 16, 17, 18, 19, 20, 21, 22, 23, 24, 25]\n",
      "total.: 325\n"
     ]
    }
   ],
   "source": [
    "# 4 question addition of list \n",
    "l1 = [i  for i in range(1,26)]\n",
    "print(l1)\n",
    "from functools import reduce\n",
    "print(\"total.:\",reduce(lambda x,y:x+y,l1))\n",
    "\n"
   ]
  },
  {
   "cell_type": "code",
   "execution_count": 5,
   "id": "f38c3b35-10c9-4a71-9ca9-80b05b05fd89",
   "metadata": {},
   "outputs": [
    {
     "data": {
      "text/plain": [
       "[6, 60, 90, 120]"
      ]
     },
     "execution_count": 5,
     "metadata": {},
     "output_type": "execute_result"
    }
   ],
   "source": [
    "# 5 program to find number divisible by 2 and 3\n",
    "l = [2,3,6,9,27,60,90,120,55,46]\n",
    "list(filter( lambda n :n % 2==0 and n %3==0,l))"
   ]
  },
  {
   "cell_type": "code",
   "execution_count": 19,
   "id": "af66ccc9-446d-4d88-8d73-2a5a4b5d386e",
   "metadata": {},
   "outputs": [],
   "source": [
    "# 6 program to  find the palindromes of list of string using lambda and filter"
   ]
  },
  {
   "cell_type": "code",
   "execution_count": 31,
   "id": "6c78f121-cb18-45a4-a5a5-792a56ac0f96",
   "metadata": {},
   "outputs": [
    {
     "name": "stdout",
     "output_type": "stream",
     "text": [
      "list of palindromes.: ['php', 'aba', 'radar', 'level', 'lol']\n"
     ]
    }
   ],
   "source": [
    "text = [ \"python \", \"php\",\"aba\",\"radar\",\"level\",\"ashish\" , \"lol\"]\n",
    "result = list(filter(lambda x : (x == \"\".join(reversed(x))),text))\n",
    "print(\"list of palindromes.:\",result)"
   ]
  },
  {
   "cell_type": "code",
   "execution_count": null,
   "id": "2a4ecf9e-0a63-47de-b16a-ba5abf43156f",
   "metadata": {},
   "outputs": [],
   "source": []
  },
  {
   "cell_type": "code",
   "execution_count": null,
   "id": "de38bc65-d748-4b81-9eee-7216e2bf9281",
   "metadata": {},
   "outputs": [],
   "source": []
  }
 ],
 "metadata": {
  "kernelspec": {
   "display_name": "Python 3 (ipykernel)",
   "language": "python",
   "name": "python3"
  },
  "language_info": {
   "codemirror_mode": {
    "name": "ipython",
    "version": 3
   },
   "file_extension": ".py",
   "mimetype": "text/x-python",
   "name": "python",
   "nbconvert_exporter": "python",
   "pygments_lexer": "ipython3",
   "version": "3.10.8"
  }
 },
 "nbformat": 4,
 "nbformat_minor": 5
}
