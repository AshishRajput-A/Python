{
 "cells": [
  {
   "cell_type": "code",
   "execution_count": 25,
   "id": "3f70e1ca-5b7e-4ff1-9644-045a3a6af0ed",
   "metadata": {},
   "outputs": [],
   "source": [
    "# 1. question program.\n",
    "def odd():\n",
    "    l = []\n",
    "    for i in list(range(1,26)):\n",
    "         if i%2==1:\n",
    "                print(i)\n",
    "                \n",
    "              "
   ]
  },
  {
   "cell_type": "code",
   "execution_count": 24,
   "id": "82636799-91ab-44fa-b00a-ccab92fa1d49",
   "metadata": {},
   "outputs": [
    {
     "name": "stdout",
     "output_type": "stream",
     "text": [
      "1\n",
      "3\n",
      "5\n",
      "7\n",
      "9\n",
      "11\n",
      "13\n",
      "15\n",
      "17\n",
      "19\n",
      "21\n",
      "23\n",
      "25\n"
     ]
    }
   ],
   "source": [
    "odd()"
   ]
  },
  {
   "cell_type": "code",
   "execution_count": 51,
   "id": "ba7049aa-9c4f-405f-8afc-7d1776dd25fd",
   "metadata": {},
   "outputs": [],
   "source": [
    "# 2. question example \n",
    "    # *args\n",
    "def math (*num):\n",
    "    sum = 0\n",
    "    for n in num:\n",
    "        sum = sum +n\n",
    "        print(sum)         \n",
    "        \n",
    "        #print(sum)"
   ]
  },
  {
   "cell_type": "code",
   "execution_count": 53,
   "id": "4f8bdf6a-9e77-4c95-83d5-0e388712c312",
   "metadata": {},
   "outputs": [
    {
     "name": "stdout",
     "output_type": "stream",
     "text": [
      "1\n",
      "3\n",
      "6\n",
      "10\n",
      "15\n",
      "21\n",
      "28\n",
      "36\n",
      "45\n",
      "55\n"
     ]
    }
   ],
   "source": [
    "math(1,2,3,4,5,6,7,8,9,10)\n"
   ]
  },
  {
   "cell_type": "code",
   "execution_count": 26,
   "id": "17ca788c-8277-4a1b-952c-f54d69b83dc9",
   "metadata": {},
   "outputs": [],
   "source": [
    "#   **kwargs\n",
    "def intro(**data):\n",
    "    for key,value in data.items():\n",
    "        print(\"{} is {}\".format(key,value))"
   ]
  },
  {
   "cell_type": "code",
   "execution_count": 3,
   "id": "7a8c7f73-e31b-4080-93a3-c7b2bcf19b9b",
   "metadata": {},
   "outputs": [
    {
     "name": "stdout",
     "output_type": "stream",
     "text": [
      "name is ahsish\n",
      "email is ashish@gmail.com\n"
     ]
    }
   ],
   "source": [
    "intro( name=\"ahsish\" , email=\"ashish@gmail.com\")"
   ]
  },
  {
   "cell_type": "code",
   "execution_count": 40,
   "id": "4835c8fd-8ed6-4d09-8350-0d6afea73821",
   "metadata": {},
   "outputs": [],
   "source": [
    "# generator function example\\\n",
    "def fibonaci(n):\n",
    "    \n",
    "    a,b = 0,1\n",
    "    for i in range(n):\n",
    "        yield a\n",
    "        a,b= b,a+b\n",
    "       \n",
    "        \n",
    "    "
   ]
  },
  {
   "cell_type": "code",
   "execution_count": 41,
   "id": "58fc0014-7612-4961-9d9b-30f9af66844f",
   "metadata": {},
   "outputs": [
    {
     "name": "stdout",
     "output_type": "stream",
     "text": [
      "0\n",
      "1\n",
      "1\n",
      "2\n",
      "3\n",
      "5\n",
      "8\n",
      "13\n",
      "21\n",
      "34\n"
     ]
    }
   ],
   "source": [
    "for i in fibonaci(10):\n",
    "\n",
    "    print(i)"
   ]
  },
  {
   "cell_type": "code",
   "execution_count": 15,
   "id": "1180d98b-334c-457d-9236-b271617b0f61",
   "metadata": {},
   "outputs": [],
   "source": [
    "# write program to print fibonacci series using while loop"
   ]
  },
  {
   "cell_type": "code",
   "execution_count": 18,
   "id": "51feabac-abef-4870-bd0e-9e915ce9e7ab",
   "metadata": {},
   "outputs": [
    {
     "name": "stdin",
     "output_type": "stream",
     "text": [
      "Enter how many number.: 10\n"
     ]
    },
    {
     "name": "stdout",
     "output_type": "stream",
     "text": [
      "fibonacci sequence.:\n",
      "0\n",
      "1\n",
      "1\n",
      "2\n",
      "3\n",
      "5\n",
      "8\n",
      "13\n",
      "21\n",
      "34\n"
     ]
    }
   ],
   "source": [
    "num = int(input(\"Enter how many number.:\"))\n",
    "\n",
    "n1,n2=0,1\n",
    "count=0\n",
    "if num <= 0:\n",
    "    print(\"please enter positive number.:\")\n",
    "elif num == 1:\n",
    "        print(\"fibonacci series.:\",num,\":\")\n",
    "        print(n1)\n",
    "else:\n",
    "        print(\"fibonacci sequence.:\")\n",
    "        while count < num :\n",
    "            print(n1)\n",
    "            n3 = n1+n2\n",
    "            n1=n2\n",
    "            n2=n3\n",
    "            count = count+1"
   ]
  },
  {
   "cell_type": "code",
   "execution_count": 2,
   "id": "a55f657b-2691-41cb-8ccf-5158fb1f40e5",
   "metadata": {},
   "outputs": [
    {
     "data": {
      "text/plain": [
       "['p', 'w', 's', 'k', 'i', 'l', 'l', 's']"
      ]
     },
     "execution_count": 2,
     "metadata": {},
     "output_type": "execute_result"
    }
   ],
   "source": [
    "# print string using list comprehension \n",
    "s = \"pwskills\"\n",
    "\n",
    "[i.lower() for i in s ]\n"
   ]
  },
  {
   "cell_type": "code",
   "execution_count": 3,
   "id": "4527817f-c640-4df5-af8e-9de259ba5eb7",
   "metadata": {},
   "outputs": [
    {
     "name": "stdin",
     "output_type": "stream",
     "text": [
      "enter number.: 12\n"
     ]
    }
   ],
   "source": [
    "n = input(\"enter number.:\")\n",
    "\n",
    "b = n.rev"
   ]
  },
  {
   "cell_type": "code",
   "execution_count": 17,
   "id": "129bec26-ac84-4441-8ba9-abc136adce51",
   "metadata": {},
   "outputs": [
    {
     "name": "stdin",
     "output_type": "stream",
     "text": [
      "Enter any number: 121\n"
     ]
    },
    {
     "name": "stdout",
     "output_type": "stream",
     "text": [
      "The 121 number is palindrome!\n"
     ]
    }
   ],
   "source": [
    "# print palindrome number using while loop"
   ]
  },
  {
   "cell_type": "code",
   "execution_count": 23,
   "id": "4dc00253-6b08-46d6-b83c-d7809c807fb3",
   "metadata": {},
   "outputs": [
    {
     "name": "stdin",
     "output_type": "stream",
     "text": [
      "Enter number.: 123\n"
     ]
    },
    {
     "name": "stdout",
     "output_type": "stream",
     "text": [
      "not a palindrome\n"
     ]
    }
   ],
   "source": [
    "num =int(input(\"Enter number.:\"))\n",
    "tem = num \n",
    "sum = 0\n",
    "while(num>0):\n",
    "    r = num % 10\n",
    "    sum = sum * 10 +r\n",
    "    num = num//10\n",
    "if (tem == sum):\n",
    "    print(\"number is palindrome\")\n",
    "else:\n",
    "    print(\"not a palindrome\")\n",
    "    "
   ]
  },
  {
   "cell_type": "code",
   "execution_count": 27,
   "id": "54dcf932-5f00-4a05-9259-adfddca74254",
   "metadata": {},
   "outputs": [
    {
     "data": {
      "text/plain": [
       "[1, 3, 5, 7, 9, 11, 13, 15, 17, 19]"
      ]
     },
     "execution_count": 27,
     "metadata": {},
     "output_type": "execute_result"
    }
   ],
   "source": [
    " # print odd number using list comprehansion\n",
    "[ x for x in range(1,20) if x % 2 != 0]"
   ]
  },
  {
   "cell_type": "code",
   "execution_count": null,
   "id": "379e1057-70b1-4abb-8b0c-77340fb06a9c",
   "metadata": {},
   "outputs": [],
   "source": []
  }
 ],
 "metadata": {
  "kernelspec": {
   "display_name": "Python 3 (ipykernel)",
   "language": "python",
   "name": "python3"
  },
  "language_info": {
   "codemirror_mode": {
    "name": "ipython",
    "version": 3
   },
   "file_extension": ".py",
   "mimetype": "text/x-python",
   "name": "python",
   "nbconvert_exporter": "python",
   "pygments_lexer": "ipython3",
   "version": "3.10.8"
  }
 },
 "nbformat": 4,
 "nbformat_minor": 5
}
