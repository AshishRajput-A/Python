{
 "cells": [
  {
   "cell_type": "code",
   "execution_count": 3,
   "id": "b62bcefa-e6e8-42b5-9594-5901a72b136f",
   "metadata": {},
   "outputs": [
    {
     "name": "stdin",
     "output_type": "stream",
     "text": [
      "Enter marks 34\n"
     ]
    },
    {
     "name": "stdout",
     "output_type": "stream",
     "text": [
      "D Grade\n"
     ]
    }
   ],
   "source": [
    " \"\"\"Program to accept percentage from use and give grade.\"\"\"\n",
    "m= int(input(\"Enter marks\"))\n",
    "\n",
    "if m>=90 and m<12:\n",
    "    print(\"A Grade\")\n",
    "elif m>80 and m<90:\n",
    "    print(\"B Grade\")\n",
    "elif m>=60 and n<=80:\n",
    "    print(\"C Grade\")\n",
    "else:\n",
    "    print(\"D Grade\")"
   ]
  },
  {
   "cell_type": "code",
   "execution_count": 4,
   "id": "7f04ffa7-2ac8-4623-b1a0-d5e73909c7a6",
   "metadata": {},
   "outputs": [
    {
     "name": "stdin",
     "output_type": "stream",
     "text": [
      "Enter Price.: 100002020\n"
     ]
    },
    {
     "name": "stdout",
     "output_type": "stream",
     "text": [
      "15000303.0\n"
     ]
    }
   ],
   "source": [
    "\"\"\"Program to accept the cost of bike and add tex acording bike price\"\"\"\n",
    "p = int(input(\"Enter Price.:\"))\n",
    "\n",
    "if p >100000: \n",
    "    t= (15*p)/100\n",
    "    print(t)\n",
    "elif p >50000 and p<=100000:\n",
    "    t=(10*p)/100\n",
    "    print(t)\n",
    "elif p<=50000:\n",
    "    t=(5*p)/100\n",
    "    print(t)"
   ]
  },
  {
   "cell_type": "code",
   "execution_count": 6,
   "id": "8d89dc8b-d5ff-4c6b-bb38-3296529abf69",
   "metadata": {},
   "outputs": [
    {
     "name": "stdin",
     "output_type": "stream",
     "text": [
      "Enter city.: agra\n"
     ]
    },
    {
     "name": "stdout",
     "output_type": "stream",
     "text": [
      "Taj Mahal\n"
     ]
    }
   ],
   "source": [
    "\"\"\"program to accept city from user and display monuments of that city\"\"\"\n",
    "c = input(\"Enter city.:\")\n",
    "\n",
    "if  c.title() == \"Delhi\":\n",
    "    print(\"Red Fort\")\n",
    "elif c.title() == \"Agra\":\n",
    "    print(\"Taj Mahal\")\n",
    "elif c.title() == \"Jaipur\":\n",
    "    print(\"Jal Mahal\")\n",
    "    "
   ]
  },
  {
   "cell_type": "code",
   "execution_count": 7,
   "id": "95cf1416-a999-42c6-9b6c-2cc3e6826b84",
   "metadata": {},
   "outputs": [
    {
     "name": "stdin",
     "output_type": "stream",
     "text": [
      "Enter number of row you want.: 5\n"
     ]
    },
    {
     "name": "stdout",
     "output_type": "stream",
     "text": [
      "* \n",
      "* * \n",
      "* * * \n",
      "* * * * \n",
      "* * * * * \n"
     ]
    }
   ],
   "source": [
    "\"\"\"1 pattern\"\"\"\n",
    "n = int(input(\"Enter number of row you want.:\"))\n",
    "\n",
    "i = 1\n",
    "while i <= n:\n",
    "    j = 1\n",
    "    while j <= i:\n",
    "        print(\"*\", end = \" \")\n",
    "        j += 1\n",
    "    print()\n",
    "    i += 1\n"
   ]
  },
  {
   "cell_type": "code",
   "execution_count": 8,
   "id": "140268c1-47c3-42eb-b015-e623cebdaf5d",
   "metadata": {},
   "outputs": [
    {
     "name": "stdin",
     "output_type": "stream",
     "text": [
      "Enter how many row you want.: 5\n"
     ]
    },
    {
     "name": "stdout",
     "output_type": "stream",
     "text": [
      "* * * * * \n",
      "* * * * \n",
      "* * * \n",
      "* * \n",
      "* \n"
     ]
    }
   ],
   "source": [
    "\"\"\"2 pattern\"\"\"\n",
    "n = int(input(\"Enter how many row you want.:\"))\n",
    "i=1\n",
    "while i<=n:\n",
    "    j=n\n",
    "    while j>=i:\n",
    "        print(\"*\",end=\" \")\n",
    "        j-=1\n",
    "    print()\n",
    "    i+=1"
   ]
  },
  {
   "cell_type": "code",
   "execution_count": 9,
   "id": "fa3dd50d-8893-4345-ac73-4857f544d766",
   "metadata": {},
   "outputs": [
    {
     "name": "stdin",
     "output_type": "stream",
     "text": [
      "Enter how many row you want.: 5\n"
     ]
    },
    {
     "name": "stdout",
     "output_type": "stream",
     "text": [
      "     * \n",
      "    *  * \n",
      "   *  *  * \n",
      "  *  *  *  * \n",
      " *  *  *  *  * \n"
     ]
    }
   ],
   "source": [
    "\"\"\"3 pattern\"\"\"\n",
    "def pattern(n):\n",
    "    i = 1\n",
    "    while i<=n:\n",
    "        print(\" \"* (n-i) + \" * \" * i)\n",
    "        i+=1\n",
    "n= int(input(\"Enter how many row you want.:\"))\n",
    "pattern(n)"
   ]
  },
  {
   "cell_type": "code",
   "execution_count": 11,
   "id": "12f410da-6695-4621-b578-bd9ee9d9d835",
   "metadata": {},
   "outputs": [
    {
     "name": "stdout",
     "output_type": "stream",
     "text": [
      "10\n",
      "9\n",
      "8\n",
      "7\n",
      "6\n",
      "5\n",
      "4\n",
      "3\n",
      "2\n",
      "1\n"
     ]
    }
   ],
   "source": [
    "a =10 \n",
    "while a >=1:\n",
    "    print(a)\n",
    "    a-=1\n",
    "    "
   ]
  },
  {
   "cell_type": "code",
   "execution_count": null,
   "id": "39f989d5-1de6-4752-b733-20b8f3d7e3cb",
   "metadata": {},
   "outputs": [],
   "source": []
  }
 ],
 "metadata": {
  "kernelspec": {
   "display_name": "Python 3 (ipykernel)",
   "language": "python",
   "name": "python3"
  },
  "language_info": {
   "codemirror_mode": {
    "name": "ipython",
    "version": 3
   },
   "file_extension": ".py",
   "mimetype": "text/x-python",
   "name": "python",
   "nbconvert_exporter": "python",
   "pygments_lexer": "ipython3",
   "version": "3.10.8"
  }
 },
 "nbformat": 4,
 "nbformat_minor": 5
}
